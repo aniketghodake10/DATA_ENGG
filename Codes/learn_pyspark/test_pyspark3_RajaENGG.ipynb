{
 "cells": [
  {
   "cell_type": "code",
   "execution_count": 1,
   "id": "d6fb8dab",
   "metadata": {},
   "outputs": [],
   "source": [
    "import pyspark\n",
    "from datetime import datetime, date\n",
    "from pyspark.sql import Row\n",
    "from pyspark.sql import Column\n",
    "from pyspark.sql import SparkSession"
   ]
  },
  {
   "cell_type": "markdown",
   "id": "4a660fb9",
   "metadata": {},
   "source": [
    "<h1><center>Reading and writing a csv file</center></h1>"
   ]
  },
  {
   "cell_type": "code",
   "execution_count": 2,
   "id": "bac54bb6",
   "metadata": {},
   "outputs": [
    {
     "name": "stdout",
     "output_type": "stream",
     "text": [
      "23/07/10 20:44:45 WARN Utils: Your hostname, nMACHINE resolves to a loopback address: 127.0.1.1; using 192.168.0.133 instead (on interface wlp2s0)\n",
      "23/07/10 20:44:45 WARN Utils: Set SPARK_LOCAL_IP if you need to bind to another address\n"
     ]
    },
    {
     "name": "stderr",
     "output_type": "stream",
     "text": [
      "Setting default log level to \"WARN\".\n",
      "To adjust logging level use sc.setLogLevel(newLevel). For SparkR, use setLogLevel(newLevel).\n"
     ]
    },
    {
     "name": "stdout",
     "output_type": "stream",
     "text": [
      "23/07/10 20:44:45 WARN NativeCodeLoader: Unable to load native-hadoop library for your platform... using builtin-java classes where applicable\n"
     ]
    }
   ],
   "source": [
    "spark = SparkSession.builder.appName('Practice Pyspark').getOrCreate()"
   ]
  },
  {
   "cell_type": "code",
   "execution_count": 3,
   "id": "98bf1aec",
   "metadata": {},
   "outputs": [],
   "source": [
    "df1 = spark.read.option(\"header\", True).option(\"inferSchema\", True).option(\"delimiter\", \",\").csv('Data/student.csv')"
   ]
  },
  {
   "cell_type": "code",
   "execution_count": 4,
   "id": "cbb28230",
   "metadata": {},
   "outputs": [],
   "source": [
    "df2 = spark.read.format(\"csv\").options(header='True', inferSchema='True', delimiter=',').load('Data/student.csv')"
   ]
  },
  {
   "cell_type": "code",
   "execution_count": 5,
   "id": "7509508f",
   "metadata": {},
   "outputs": [
    {
     "name": "stdout",
     "output_type": "stream",
     "text": [
      "+---+--------+-----+----+------+\n",
      "| id|    name|class|mark|gender|\n",
      "+---+--------+-----+----+------+\n",
      "|  1|John Deo| Four|  75|female|\n",
      "|  2|Max Ruin|Three|  85|  male|\n",
      "+---+--------+-----+----+------+\n",
      "only showing top 2 rows\n",
      "\n"
     ]
    }
   ],
   "source": [
    "df1.show(2)"
   ]
  },
  {
   "cell_type": "code",
   "execution_count": 6,
   "id": "5860feb2",
   "metadata": {},
   "outputs": [
    {
     "name": "stdout",
     "output_type": "stream",
     "text": [
      "+---+--------+-----+----+------+\n",
      "| id|    name|class|mark|gender|\n",
      "+---+--------+-----+----+------+\n",
      "|  1|John Deo| Four|  75|female|\n",
      "|  2|Max Ruin|Three|  85|  male|\n",
      "+---+--------+-----+----+------+\n",
      "only showing top 2 rows\n",
      "\n"
     ]
    }
   ],
   "source": [
    "df2.show(2)"
   ]
  },
  {
   "cell_type": "code",
   "execution_count": 7,
   "id": "8cb715f9",
   "metadata": {},
   "outputs": [
    {
     "name": "stdout",
     "output_type": "stream",
     "text": [
      "root\n",
      " |-- id: integer (nullable = true)\n",
      " |-- name: string (nullable = true)\n",
      " |-- class: string (nullable = true)\n",
      " |-- mark: integer (nullable = true)\n",
      " |-- gender: string (nullable = true)\n",
      "\n"
     ]
    }
   ],
   "source": [
    "df2.printSchema()"
   ]
  },
  {
   "cell_type": "markdown",
   "id": "9746d7ff",
   "metadata": {},
   "source": [
    "### inferSchema will read data twice, so it is recommended to use custom schema"
   ]
  },
  {
   "cell_type": "code",
   "execution_count": 8,
   "id": "6ad17728",
   "metadata": {},
   "outputs": [],
   "source": [
    "from pyspark.sql.types import StructType, StringType, IntegerType"
   ]
  },
  {
   "cell_type": "code",
   "execution_count": 9,
   "id": "3920786d",
   "metadata": {},
   "outputs": [],
   "source": [
    "schema = StructType() \\\n",
    "      .add(\"id\",IntegerType(),True) \\\n",
    "      .add(\"name\",StringType(),True) \\\n",
    "      .add(\"class\",StringType(),True) \\\n",
    "      .add(\"mark\",IntegerType(),True) \\\n",
    "      .add(\"gender\",StringType(),True)\n",
    "\n",
    "df3 = spark.read.format(\"csv\").options(header='True', delimiter=',').schema(schema).load('Data/student.csv')"
   ]
  },
  {
   "cell_type": "code",
   "execution_count": 10,
   "id": "3abe01ec",
   "metadata": {},
   "outputs": [
    {
     "name": "stdout",
     "output_type": "stream",
     "text": [
      "+---+--------+-----+----+------+\n",
      "| id|    name|class|mark|gender|\n",
      "+---+--------+-----+----+------+\n",
      "|  1|John Deo| Four|  75|female|\n",
      "|  2|Max Ruin|Three|  85|  male|\n",
      "+---+--------+-----+----+------+\n",
      "only showing top 2 rows\n",
      "\n"
     ]
    }
   ],
   "source": [
    "df3.show(2)"
   ]
  },
  {
   "cell_type": "code",
   "execution_count": 11,
   "id": "3a8ae95e",
   "metadata": {},
   "outputs": [
    {
     "name": "stdout",
     "output_type": "stream",
     "text": [
      "root\n",
      " |-- id: integer (nullable = true)\n",
      " |-- name: string (nullable = true)\n",
      " |-- class: string (nullable = true)\n",
      " |-- mark: integer (nullable = true)\n",
      " |-- gender: string (nullable = true)\n",
      "\n"
     ]
    }
   ],
   "source": [
    "df3.printSchema()"
   ]
  },
  {
   "cell_type": "markdown",
   "id": "d6d99db9",
   "metadata": {},
   "source": [
    "## Other Features while reading csv\n",
    "- Read Multiple CSV Files ==> \n",
    "df = spark.read.csv(\"path1,path2,path3\")\n",
    "- Read all CSV Files in a Directory ==> \n",
    "df = spark.read.csv(\"Folder path\")\n",
    "- quotes\n",
    "When you have a column with a delimiter that used to split the columns, \n",
    "use quotes option to specify the quote character, by default it is ” and \n",
    "delimiters inside quotes are ignored. But using this option you can set any character.\n",
    "df = spark.read.option(\"quote\", \"'\").csv(csv_path)\n",
    "- nullValues\n",
    "Using nullValues option you can specify the string in a CSV to consider as null. For example, \n",
    "if you want to consider a date column with a value \"1900-01-01\" set null on DataFrame."
   ]
  },
  {
   "cell_type": "markdown",
   "id": "c19edd6c",
   "metadata": {},
   "source": [
    "## Writing DF to csv"
   ]
  },
  {
   "cell_type": "code",
   "execution_count": 12,
   "id": "075d698c",
   "metadata": {},
   "outputs": [],
   "source": [
    "df2.write.options(header='True', delimiter=',').mode('overwrite').csv(\"Data/written_student_csv\")"
   ]
  },
  {
   "cell_type": "markdown",
   "id": "4a0c6710",
   "metadata": {},
   "source": [
    "### Saving modes\n",
    "overwrite – mode is used to overwrite the existing file.\n",
    "\n",
    "append – To add the data to the existing file.\n",
    "\n",
    "ignore – Ignores write operation when the file already exists.\n",
    "\n",
    "error – This is a default option when the file already exists, it returns an error."
   ]
  },
  {
   "cell_type": "code",
   "execution_count": null,
   "id": "af4e0d1c",
   "metadata": {},
   "outputs": [],
   "source": []
  },
  {
   "cell_type": "code",
   "execution_count": null,
   "id": "91b46e11",
   "metadata": {},
   "outputs": [],
   "source": []
  },
  {
   "cell_type": "markdown",
   "id": "d0a3bb4f",
   "metadata": {},
   "source": [
    "<h1><center>Filter Operations</center></h1>"
   ]
  },
  {
   "cell_type": "code",
   "execution_count": 13,
   "id": "f2f4d0d9",
   "metadata": {
    "scrolled": true
   },
   "outputs": [
    {
     "name": "stdout",
     "output_type": "stream",
     "text": [
      "+---+--------+-----+----+------+\n",
      "| id|    name|class|mark|gender|\n",
      "+---+--------+-----+----+------+\n",
      "|  2|Max Ruin|Three|  85|  male|\n",
      "|  3|  Arnold|Three|  55|  male|\n",
      "+---+--------+-----+----+------+\n",
      "only showing top 2 rows\n",
      "\n"
     ]
    }
   ],
   "source": [
    "df3.filter(df3.gender == 'male').show(2)"
   ]
  },
  {
   "cell_type": "code",
   "execution_count": 14,
   "id": "38b1d155",
   "metadata": {},
   "outputs": [
    {
     "name": "stdout",
     "output_type": "stream",
     "text": [
      "+---+----------+-----+----+------+\n",
      "| id|      name|class|mark|gender|\n",
      "+---+----------+-----+----+------+\n",
      "|  1|  John Deo| Four|  75|female|\n",
      "|  4|Krish Star| Four|  60|female|\n",
      "+---+----------+-----+----+------+\n",
      "only showing top 2 rows\n",
      "\n"
     ]
    }
   ],
   "source": [
    "df3.filter(df3.gender != 'male').show(2)"
   ]
  },
  {
   "cell_type": "code",
   "execution_count": 15,
   "id": "59655160",
   "metadata": {},
   "outputs": [
    {
     "name": "stdout",
     "output_type": "stream",
     "text": [
      "+---+----------+-----+----+------+\n",
      "| id|      name|class|mark|gender|\n",
      "+---+----------+-----+----+------+\n",
      "|  1|  John Deo| Four|  75|female|\n",
      "|  4|Krish Star| Four|  60|female|\n",
      "+---+----------+-----+----+------+\n",
      "only showing top 2 rows\n",
      "\n"
     ]
    }
   ],
   "source": [
    "df3.filter(~(df3.gender == 'male')).show(2)"
   ]
  },
  {
   "cell_type": "code",
   "execution_count": 16,
   "id": "4120974c",
   "metadata": {},
   "outputs": [
    {
     "name": "stdout",
     "output_type": "stream",
     "text": [
      "+---+--------+-----+----+------+\n",
      "| id|    name|class|mark|gender|\n",
      "+---+--------+-----+----+------+\n",
      "|  2|Max Ruin|Three|  85|  male|\n",
      "|  3|  Arnold|Three|  55|  male|\n",
      "+---+--------+-----+----+------+\n",
      "only showing top 2 rows\n",
      "\n"
     ]
    }
   ],
   "source": [
    "from pyspark.sql.functions import col\n",
    "df3.filter(col(\"gender\") == \"male\").show(2)"
   ]
  },
  {
   "cell_type": "code",
   "execution_count": 17,
   "id": "1769c8fe",
   "metadata": {},
   "outputs": [
    {
     "name": "stdout",
     "output_type": "stream",
     "text": [
      "+---+--------+-----+----+------+\n",
      "| id|    name|class|mark|gender|\n",
      "+---+--------+-----+----+------+\n",
      "|  2|Max Ruin|Three|  85|  male|\n",
      "|  3|  Arnold|Three|  55|  male|\n",
      "+---+--------+-----+----+------+\n",
      "only showing top 2 rows\n",
      "\n"
     ]
    }
   ],
   "source": [
    "df3.filter(\"gender == 'male'\").show(2)"
   ]
  },
  {
   "cell_type": "code",
   "execution_count": 18,
   "id": "4684eb8d",
   "metadata": {},
   "outputs": [
    {
     "name": "stdout",
     "output_type": "stream",
     "text": [
      "+---+---------+-----+----+------+\n",
      "| id|     name|class|mark|gender|\n",
      "+---+---------+-----+----+------+\n",
      "|  6|Alex John| Four|  55|  male|\n",
      "| 15| Tade Row| Four|  88|  male|\n",
      "+---+---------+-----+----+------+\n",
      "only showing top 2 rows\n",
      "\n"
     ]
    }
   ],
   "source": [
    "df3.filter((df3.gender=='male')&(df3['class']=='Four')).show(2)"
   ]
  },
  {
   "cell_type": "code",
   "execution_count": 19,
   "id": "11cce736",
   "metadata": {},
   "outputs": [
    {
     "name": "stdout",
     "output_type": "stream",
     "text": [
      "+---+--------+-----+----+------+\n",
      "| id|    name|class|mark|gender|\n",
      "+---+--------+-----+----+------+\n",
      "|  1|John Deo| Four|  75|female|\n",
      "|  2|Max Ruin|Three|  85|  male|\n",
      "+---+--------+-----+----+------+\n",
      "only showing top 2 rows\n",
      "\n"
     ]
    }
   ],
   "source": [
    "li=[\"Three\",\"Four\"]\n",
    "df3.filter(df3['class'].isin(li)).show(2)"
   ]
  },
  {
   "cell_type": "code",
   "execution_count": 20,
   "id": "04f117ad",
   "metadata": {},
   "outputs": [
    {
     "name": "stdout",
     "output_type": "stream",
     "text": [
      "+---+--------+-----+----+------+\n",
      "| id|    name|class|mark|gender|\n",
      "+---+--------+-----+----+------+\n",
      "|  2|Max Ruin|Three|  85|  male|\n",
      "|  3|  Arnold|Three|  55|  male|\n",
      "| 27|Big Nose|Three|  81|female|\n",
      "+---+--------+-----+----+------+\n",
      "\n",
      "+---+--------+-----+----+------+\n",
      "| id|    name|class|mark|gender|\n",
      "+---+--------+-----+----+------+\n",
      "|  2|Max Ruin|Three|  85|  male|\n",
      "|  3|  Arnold|Three|  55|  male|\n",
      "| 27|Big Nose|Three|  81|female|\n",
      "+---+--------+-----+----+------+\n",
      "\n",
      "+---+--------+-----+----+------+\n",
      "| id|    name|class|mark|gender|\n",
      "+---+--------+-----+----+------+\n",
      "|  2|Max Ruin|Three|  85|  male|\n",
      "|  3|  Arnold|Three|  55|  male|\n",
      "| 27|Big Nose|Three|  81|female|\n",
      "+---+--------+-----+----+------+\n",
      "\n"
     ]
    }
   ],
   "source": [
    "df3.filter(df3['class'].startswith(\"T\")).show()\n",
    "df3.filter(df3['class'].endswith(\"ee\")).show()\n",
    "df3.filter(df3['class'].contains(\"Th\")).show()"
   ]
  },
  {
   "cell_type": "code",
   "execution_count": 21,
   "id": "5d4d15de",
   "metadata": {},
   "outputs": [
    {
     "name": "stdout",
     "output_type": "stream",
     "text": [
      "+---+--------+-----+----+------+\n",
      "| id|    name|class|mark|gender|\n",
      "+---+--------+-----+----+------+\n",
      "|  2|Max Ruin|Three|  85|  male|\n",
      "+---+--------+-----+----+------+\n",
      "\n"
     ]
    }
   ],
   "source": [
    "df3.filter(df3.name.like(\"%Ruin%\")).show(2)"
   ]
  },
  {
   "cell_type": "code",
   "execution_count": 22,
   "id": "d62c8d6f",
   "metadata": {},
   "outputs": [
    {
     "name": "stdout",
     "output_type": "stream",
     "text": [
      "+---+--------+-----+----+------+\n",
      "| id|    name|class|mark|gender|\n",
      "+---+--------+-----+----+------+\n",
      "|  2|Max Ruin|Three|  85|  male|\n",
      "+---+--------+-----+----+------+\n",
      "\n"
     ]
    }
   ],
   "source": [
    "df3.filter(df3.name.rlike(\"(?i)^*ruin$\")).show(2)"
   ]
  },
  {
   "cell_type": "code",
   "execution_count": 23,
   "id": "11df1b58",
   "metadata": {},
   "outputs": [
    {
     "name": "stdout",
     "output_type": "stream",
     "text": [
      "+---+----+-----+----+------+\n",
      "| id|name|class|mark|gender|\n",
      "+---+----+-----+----+------+\n",
      "+---+----+-----+----+------+\n",
      "\n"
     ]
    }
   ],
   "source": [
    "df3.filter(df3.name.isNull()).show(2)"
   ]
  },
  {
   "cell_type": "code",
   "execution_count": 24,
   "id": "1b429e22",
   "metadata": {},
   "outputs": [
    {
     "name": "stdout",
     "output_type": "stream",
     "text": [
      "+---+--------+-----+----+------+\n",
      "| id|    name|class|mark|gender|\n",
      "+---+--------+-----+----+------+\n",
      "|  1|John Deo| Four|  75|female|\n",
      "|  2|Max Ruin|Three|  85|  male|\n",
      "+---+--------+-----+----+------+\n",
      "only showing top 2 rows\n",
      "\n"
     ]
    }
   ],
   "source": [
    "df3.filter(df3.name.isNotNull()).show(2)"
   ]
  },
  {
   "cell_type": "code",
   "execution_count": 25,
   "id": "1e8904f0",
   "metadata": {},
   "outputs": [
    {
     "name": "stdout",
     "output_type": "stream",
     "text": [
      "root\n",
      " |-- name: struct (nullable = true)\n",
      " |    |-- firstname: string (nullable = true)\n",
      " |    |-- middlename: string (nullable = true)\n",
      " |    |-- lastname: string (nullable = true)\n",
      " |-- languages: array (nullable = true)\n",
      " |    |-- element: string (containsNull = true)\n",
      " |-- state: string (nullable = true)\n",
      " |-- gender: string (nullable = true)\n",
      "\n"
     ]
    },
    {
     "name": "stderr",
     "output_type": "stream",
     "text": [
      "\r",
      "[Stage 22:>                                                         (0 + 1) / 1]\r",
      "\r",
      "                                                                                \r"
     ]
    },
    {
     "name": "stdout",
     "output_type": "stream",
     "text": [
      "+----------------+------------------+-----+------+\n",
      "|            name|         languages|state|gender|\n",
      "+----------------+------------------+-----+------+\n",
      "|{James, , Smith}|[Java, Scala, C++]|   OH|     M|\n",
      "|  {Anna, Rose, }|[Spark, Java, C++]|   NY|     F|\n",
      "+----------------+------------------+-----+------+\n",
      "only showing top 2 rows\n",
      "\n",
      "+----------------+------------------+-----+------+\n",
      "|            name|         languages|state|gender|\n",
      "+----------------+------------------+-----+------+\n",
      "|{James, , Smith}|[Java, Scala, C++]|   OH|     M|\n",
      "|  {Anna, Rose, }|[Spark, Java, C++]|   NY|     F|\n",
      "+----------------+------------------+-----+------+\n",
      "\n",
      "+--------------------+------------+-----+------+\n",
      "|                name|   languages|state|gender|\n",
      "+--------------------+------------+-----+------+\n",
      "| {Julia, , Williams}|[CSharp, VB]|   OH|     F|\n",
      "|{Mike, Mary, Will...|[Python, VB]|   OH|     M|\n",
      "+--------------------+------------+-----+------+\n",
      "\n"
     ]
    }
   ],
   "source": [
    "from pyspark.sql.types import StructField \n",
    "from pyspark.sql.types import ArrayType\n",
    "data = [\n",
    "    ((\"James\",\"\",\"Smith\"),[\"Java\",\"Scala\",\"C++\"],\"OH\",\"M\"),\n",
    "    ((\"Anna\",\"Rose\",\"\"),[\"Spark\",\"Java\",\"C++\"],\"NY\",\"F\"),\n",
    "    ((\"Julia\",\"\",\"Williams\"),[\"CSharp\",\"VB\"],\"OH\",\"F\"),\n",
    "    ((\"Maria\",\"Anne\",\"Jones\"),[\"CSharp\",\"VB\"],\"NY\",\"M\"),\n",
    "    ((\"Jen\",\"Mary\",\"Brown\"),[\"CSharp\",\"VB\"],\"NY\",\"M\"),\n",
    "    ((\"Mike\",\"Mary\",\"Williams\"),[\"Python\",\"VB\"],\"OH\",\"M\")\n",
    " ]\n",
    "        \n",
    "schema = StructType([\n",
    "     StructField('name', StructType([\n",
    "        StructField('firstname', StringType(), True),\n",
    "        StructField('middlename', StringType(), True),\n",
    "         StructField('lastname', StringType(), True)\n",
    "     ])),\n",
    "     StructField('languages', ArrayType(StringType()), True),\n",
    "     StructField('state', StringType(), True),\n",
    "     StructField('gender', StringType(), True)\n",
    " ])\n",
    "\n",
    "df4 = spark.createDataFrame(data = data, schema = schema)\n",
    "df4.printSchema()\n",
    "df4.show(2)\n",
    "\n",
    "from pyspark.sql.functions import array_contains\n",
    "df4.filter(array_contains(df4.languages,\"Java\")).show(2)\n",
    "\n",
    "df4.filter(df4.name.lastname == \"Williams\").show(2)"
   ]
  },
  {
   "cell_type": "code",
   "execution_count": null,
   "id": "1f6a02e9",
   "metadata": {},
   "outputs": [],
   "source": []
  },
  {
   "cell_type": "code",
   "execution_count": null,
   "id": "963dcdbd",
   "metadata": {},
   "outputs": [],
   "source": []
  },
  {
   "cell_type": "markdown",
   "id": "0190acb8",
   "metadata": {},
   "source": [
    "<h1><center>Add, Rename and Drop Columns, Change datatype of Column</center></h1>"
   ]
  },
  {
   "cell_type": "markdown",
   "id": "1de5f258",
   "metadata": {},
   "source": [
    "df.withColumn(\"CopiedColumn\",col(\"salary\")* -1).show()\n",
    "\n",
    "df.withColumn(\"Country\", lit(\"USA\")).show()\n",
    "\n",
    "df6 = df.withColumn(\"Country\", lit(\"USA\")).withColumn(\"anotherColumn\",lit(\"anotherValue\"))\n",
    "\n",
    "\n",
    "\n",
    "\n",
    "df.withColumnRenamed(\"gender\",\"sex\").show()\n",
    "\n",
    "\n",
    "\n",
    "\n",
    "df.drop(\"salary\").show()\n",
    "\n",
    "\n",
    "\n",
    "\n",
    "df.withColumn(\"salary\",col(\"salary\").cast(\"Integer\")).show()"
   ]
  },
  {
   "cell_type": "code",
   "execution_count": null,
   "id": "1e333d03",
   "metadata": {},
   "outputs": [],
   "source": []
  },
  {
   "cell_type": "code",
   "execution_count": null,
   "id": "81171624",
   "metadata": {},
   "outputs": [],
   "source": []
  },
  {
   "cell_type": "markdown",
   "id": "6553c2c1",
   "metadata": {},
   "source": [
    "<h1><center>Join Types</center></h1>"
   ]
  },
  {
   "cell_type": "markdown",
   "id": "209e2162",
   "metadata": {},
   "source": [
    "empDF.join(deptDF,empDF.emp_dept_id ==  deptDF.dept_id,\"inner\").show(truncate=False)"
   ]
  },
  {
   "cell_type": "markdown",
   "id": "b6212996",
   "metadata": {},
   "source": [
    "empDF.join(deptDF,empDF.emp_dept_id ==  deptDF.dept_id,\"outer\").show(truncate=False)\n",
    "\n",
    "empDF.join(deptDF,empDF.emp_dept_id ==  deptDF.dept_id,\"full\").show(truncate=False)\n",
    "\n",
    "empDF.join(deptDF,empDF.emp_dept_id ==  deptDF.dept_id,\"fullouter\").show(truncate=False)"
   ]
  },
  {
   "cell_type": "markdown",
   "id": "e8b7e63c",
   "metadata": {},
   "source": [
    "empDF.join(deptDF,empDF.emp_dept_id ==  deptDF.dept_id,\"left\").show(truncate=False)\n",
    "\n",
    "empDF.join(deptDF,empDF.emp_dept_id ==  deptDF.dept_id,\"leftouter\").show(truncate=False)"
   ]
  },
  {
   "cell_type": "markdown",
   "id": "69c1c296",
   "metadata": {},
   "source": [
    "empDF.join(deptDF,empDF.emp_dept_id ==  deptDF.dept_id,\"right\").show(truncate=False)\n",
    "\n",
    "empDF.join(deptDF,empDF.emp_dept_id ==  deptDF.dept_id,\"rightouter\").show(truncate=False)"
   ]
  },
  {
   "cell_type": "markdown",
   "id": "2d65c11e",
   "metadata": {},
   "source": [
    "#### Left Semi Join\n",
    "leftsemi join is similar to inner join difference being leftsemi join returns all columns from the left dataset and ignores all columns from the right dataset. In other words, this join returns columns from the only left dataset for the records match in the right dataset on join expression, records not matched on join expression are ignored from both left and right datasets.\n",
    "\n",
    "\n",
    "empDF.join(deptDF,empDF.emp_dept_id ==  deptDF.dept_id,\"leftsemi\").show(truncate=False)"
   ]
  },
  {
   "cell_type": "markdown",
   "id": "9e0694ba",
   "metadata": {},
   "source": [
    "#### Left Anti Join\n",
    "leftanti join does the exact opposite of the leftsemi, leftanti join returns only columns from the left dataset for non-matched records.\n",
    "\n",
    "\n",
    "empDF.join(deptDF,empDF.emp_dept_id ==  deptDF.dept_id,\"leftanti\").show(truncate=False)"
   ]
  },
  {
   "cell_type": "markdown",
   "id": "f5f1de95",
   "metadata": {},
   "source": [
    "#### Self Join\n",
    "\n",
    "empDF.alias(\"emp1\").join(empDF.alias(\"emp2\"), \\\n",
    "    col(\"emp1.superior_emp_id\") == col(\"emp2.emp_id\"),\"inner\") \\\n",
    "    .select(col(\"emp1.emp_id\"),col(\"emp1.name\"), \\\n",
    "      col(\"emp2.emp_id\").alias(\"superior_emp_id\"), \\\n",
    "      col(\"emp2.name\").alias(\"superior_emp_name\")) \\\n",
    "   .show(truncate=False)"
   ]
  },
  {
   "cell_type": "markdown",
   "id": "11c48945",
   "metadata": {},
   "source": [
    "#### Using SQL Expression\n",
    "\n",
    "empDF.createOrReplaceTempView(\"EMP\")\n",
    "\n",
    "deptDF.createOrReplaceTempView(\"DEPT\")\n",
    "\n",
    "joinDF = spark.sql(\"select * from EMP e, DEPT d where e.emp_dept_id == d.dept_id\").show(truncate=False)\n",
    "\n",
    "joinDF2 = spark.sql(\"select * from EMP e INNER JOIN DEPT d ON e.emp_dept_id == d.dept_id\").show(truncate=False)"
   ]
  },
  {
   "cell_type": "markdown",
   "id": "3bf250ab",
   "metadata": {},
   "source": [
    "#### Join on multiple DataFrames\n",
    "\n",
    "df1.join(df2,df1.id1 == df2.id2,\"inner\").join(df3,df1.id1 == df3.id3,\"inner\")"
   ]
  },
  {
   "cell_type": "markdown",
   "id": "1fdd3a61",
   "metadata": {},
   "source": [
    "#### Join String\t                     ==                       Equivalent SQL Join\n",
    "\n",
    "inner\t            ==                  INNER JOIN\n",
    "\n",
    "outer, full, fullouter, full_outer\t==  FULL OUTER JOIN\n",
    "\n",
    "left, leftouter, left_outer\t     ==     LEFT JOIN\n",
    "\n",
    "right, rightouter, right_outer\t  ==    RIGHT JOIN\n",
    "\n",
    "cross\t\n",
    "anti, leftanti, left_anti\t\n",
    "\n",
    "semi, leftsemi, left_semi\t"
   ]
  },
  {
   "cell_type": "markdown",
   "id": "b7b158e1",
   "metadata": {},
   "source": [
    "### ALIAS\n",
    "\n",
    "empDF.alias(\"emp2\")\n",
    "\n",
    "col(\"emp2.emp_id\").alias(\"superior_emp_id\")"
   ]
  },
  {
   "cell_type": "code",
   "execution_count": 26,
   "id": "c3addf9d",
   "metadata": {},
   "outputs": [
    {
     "name": "stdout",
     "output_type": "stream",
     "text": [
      "root\n",
      " |-- emp_id: long (nullable = true)\n",
      " |-- name: string (nullable = true)\n",
      " |-- superior_emp_id: long (nullable = true)\n",
      " |-- year_joined: string (nullable = true)\n",
      " |-- emp_dept_id: string (nullable = true)\n",
      " |-- gender: string (nullable = true)\n",
      " |-- salary: long (nullable = true)\n",
      "\n",
      "+------+--------+---------------+-----------+-----------+------+------+\n",
      "|emp_id|name    |superior_emp_id|year_joined|emp_dept_id|gender|salary|\n",
      "+------+--------+---------------+-----------+-----------+------+------+\n",
      "|1     |Smith   |-1             |2018       |10         |M     |3000  |\n",
      "|2     |Rose    |1              |2010       |20         |M     |4000  |\n",
      "|3     |Williams|1              |2010       |10         |M     |1000  |\n",
      "|4     |Jones   |2              |2005       |10         |F     |2000  |\n",
      "|5     |Brown   |2              |2010       |40         |      |-1    |\n",
      "|6     |Brown   |2              |2010       |50         |      |-1    |\n",
      "+------+--------+---------------+-----------+-----------+------+------+\n",
      "\n",
      "root\n",
      " |-- dept_name: string (nullable = true)\n",
      " |-- dept_id: long (nullable = true)\n",
      "\n",
      "+---------+-------+\n",
      "|dept_name|dept_id|\n",
      "+---------+-------+\n",
      "|Finance  |10     |\n",
      "|Marketing|20     |\n",
      "|Sales    |30     |\n",
      "|IT       |40     |\n",
      "+---------+-------+\n",
      "\n"
     ]
    }
   ],
   "source": [
    "emp = [(1,\"Smith\",-1,\"2018\",\"10\",\"M\",3000), \\\n",
    "    (2,\"Rose\",1,\"2010\",\"20\",\"M\",4000), \\\n",
    "    (3,\"Williams\",1,\"2010\",\"10\",\"M\",1000), \\\n",
    "    (4,\"Jones\",2,\"2005\",\"10\",\"F\",2000), \\\n",
    "    (5,\"Brown\",2,\"2010\",\"40\",\"\",-1), \\\n",
    "      (6,\"Brown\",2,\"2010\",\"50\",\"\",-1) \\\n",
    "  ]\n",
    "empColumns = [\"emp_id\",\"name\",\"superior_emp_id\",\"year_joined\", \\\n",
    "       \"emp_dept_id\",\"gender\",\"salary\"]\n",
    "\n",
    "empDF = spark.createDataFrame(data=emp, schema = empColumns)\n",
    "empDF.printSchema()\n",
    "empDF.show(truncate=False)\n",
    "\n",
    "dept = [(\"Finance\",10), \\\n",
    "    (\"Marketing\",20), \\\n",
    "    (\"Sales\",30), \\\n",
    "    (\"IT\",40) \\\n",
    "  ]\n",
    "deptColumns = [\"dept_name\",\"dept_id\"]\n",
    "deptDF = spark.createDataFrame(data=dept, schema = deptColumns)\n",
    "deptDF.printSchema()\n",
    "deptDF.show(truncate=False)"
   ]
  },
  {
   "cell_type": "code",
   "execution_count": 35,
   "id": "a5980630",
   "metadata": {},
   "outputs": [
    {
     "name": "stdout",
     "output_type": "stream",
     "text": [
      "+------+--------+---------------+-------------+\n",
      "|emp_id|name    |superior_emp_id|superior_name|\n",
      "+------+--------+---------------+-------------+\n",
      "|2     |Rose    |1              |Smith        |\n",
      "|3     |Williams|1              |Smith        |\n",
      "|4     |Jones   |2              |Rose         |\n",
      "|5     |Brown   |2              |Rose         |\n",
      "|6     |Brown   |2              |Rose         |\n",
      "+------+--------+---------------+-------------+\n",
      "\n"
     ]
    }
   ],
   "source": [
    "empDF.createOrReplaceTempView(\"EMP\")\n",
    "joinDF = spark.sql(\"select e1.emp_id, e1.name, e2.emp_id as superior_emp_id, e2.name as superior_name \\\n",
    "                   from EMP e1, EMP e2 where e1.superior_emp_id = e2.emp_id\").show(truncate=False)"
   ]
  },
  {
   "cell_type": "code",
   "execution_count": null,
   "id": "f2ddc221",
   "metadata": {},
   "outputs": [],
   "source": []
  },
  {
   "cell_type": "code",
   "execution_count": null,
   "id": "7d49e363",
   "metadata": {},
   "outputs": [],
   "source": []
  },
  {
   "cell_type": "markdown",
   "id": "04368c48",
   "metadata": {},
   "source": [
    "<h1><center>Explode nested array into rows AND Flatten array of arrays</center></h1>"
   ]
  },
  {
   "cell_type": "code",
   "execution_count": 37,
   "id": "1e2c110d",
   "metadata": {},
   "outputs": [
    {
     "name": "stdout",
     "output_type": "stream",
     "text": [
      "root\n",
      " |-- name: string (nullable = true)\n",
      " |-- subjects: array (nullable = true)\n",
      " |    |-- element: array (containsNull = true)\n",
      " |    |    |-- element: string (containsNull = true)\n",
      "\n",
      "+-------+-----------------------------------+\n",
      "|name   |subjects                           |\n",
      "+-------+-----------------------------------+\n",
      "|James  |[[Java, Scala, C++], [Spark, Java]]|\n",
      "|Michael|[[Spark, Java, C++], [Spark, Java]]|\n",
      "|Robert |[[CSharp, VB], [Spark, Python]]    |\n",
      "+-------+-----------------------------------+\n",
      "\n"
     ]
    }
   ],
   "source": [
    "arrayArrayData = [\n",
    "  (\"James\",[[\"Java\",\"Scala\",\"C++\"],[\"Spark\",\"Java\"]]),\n",
    "  (\"Michael\",[[\"Spark\",\"Java\",\"C++\"],[\"Spark\",\"Java\"]]),\n",
    "  (\"Robert\",[[\"CSharp\",\"VB\"],[\"Spark\",\"Python\"]])\n",
    "]\n",
    "\n",
    "df_explode = spark.createDataFrame(data=arrayArrayData, schema = ['name','subjects'])\n",
    "df_explode.printSchema()\n",
    "df_explode.show(truncate=False)"
   ]
  },
  {
   "cell_type": "code",
   "execution_count": 40,
   "id": "dfff3967",
   "metadata": {},
   "outputs": [
    {
     "name": "stdout",
     "output_type": "stream",
     "text": [
      "+-------+------------------+\n",
      "|name   |col               |\n",
      "+-------+------------------+\n",
      "|James  |[Java, Scala, C++]|\n",
      "|James  |[Spark, Java]     |\n",
      "|Michael|[Spark, Java, C++]|\n",
      "|Michael|[Spark, Java]     |\n",
      "|Robert |[CSharp, VB]      |\n",
      "|Robert |[Spark, Python]   |\n",
      "+-------+------------------+\n",
      "\n"
     ]
    }
   ],
   "source": [
    "from pyspark.sql.functions import explode\n",
    "df_explode.select(df_explode.name,explode(df_explode.subjects)).show(truncate=False)"
   ]
  },
  {
   "cell_type": "code",
   "execution_count": 41,
   "id": "95d9788d",
   "metadata": {},
   "outputs": [
    {
     "name": "stdout",
     "output_type": "stream",
     "text": [
      "+-------+-------------------------------+\n",
      "|name   |flatten(subjects)              |\n",
      "+-------+-------------------------------+\n",
      "|James  |[Java, Scala, C++, Spark, Java]|\n",
      "|Michael|[Spark, Java, C++, Spark, Java]|\n",
      "|Robert |[CSharp, VB, Spark, Python]    |\n",
      "+-------+-------------------------------+\n",
      "\n"
     ]
    }
   ],
   "source": [
    "from pyspark.sql.functions import flatten\n",
    "df_explode.select(df_explode.name,flatten(df_explode.subjects)).show(truncate=False)"
   ]
  }
 ],
 "metadata": {
  "kernelspec": {
   "display_name": "Python 3 (ipykernel)",
   "language": "python",
   "name": "python3"
  },
  "language_info": {
   "codemirror_mode": {
    "name": "ipython",
    "version": 3
   },
   "file_extension": ".py",
   "mimetype": "text/x-python",
   "name": "python",
   "nbconvert_exporter": "python",
   "pygments_lexer": "ipython3",
   "version": "3.8.5"
  }
 },
 "nbformat": 4,
 "nbformat_minor": 5
}
