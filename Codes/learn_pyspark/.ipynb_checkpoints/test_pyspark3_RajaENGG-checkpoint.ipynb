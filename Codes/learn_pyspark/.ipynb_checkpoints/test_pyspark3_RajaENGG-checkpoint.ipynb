{
 "cells": [
  {
   "cell_type": "code",
   "execution_count": 1,
   "id": "d6fb8dab",
   "metadata": {},
   "outputs": [],
   "source": [
    "import pyspark\n",
    "from datetime import datetime, date\n",
    "from pyspark.sql import Row\n",
    "from pyspark.sql import Column\n",
    "from pyspark.sql import SparkSession"
   ]
  },
  {
   "cell_type": "markdown",
   "id": "4a660fb9",
   "metadata": {},
   "source": [
    "<h1><center>Reading and writing a csv file</center></h1>"
   ]
  },
  {
   "cell_type": "code",
   "execution_count": 2,
   "id": "bac54bb6",
   "metadata": {},
   "outputs": [
    {
     "name": "stdout",
     "output_type": "stream",
     "text": [
      "23/07/09 17:48:43 WARN Utils: Your hostname, nMACHINE resolves to a loopback address: 127.0.1.1; using 192.168.0.133 instead (on interface wlp2s0)\n",
      "23/07/09 17:48:43 WARN Utils: Set SPARK_LOCAL_IP if you need to bind to another address\n"
     ]
    },
    {
     "name": "stderr",
     "output_type": "stream",
     "text": [
      "Setting default log level to \"WARN\".\n",
      "To adjust logging level use sc.setLogLevel(newLevel). For SparkR, use setLogLevel(newLevel).\n"
     ]
    },
    {
     "name": "stdout",
     "output_type": "stream",
     "text": [
      "23/07/09 17:48:43 WARN NativeCodeLoader: Unable to load native-hadoop library for your platform... using builtin-java classes where applicable\n"
     ]
    }
   ],
   "source": [
    "spark = SparkSession.builder.appName('Practice Pyspark').getOrCreate()"
   ]
  },
  {
   "cell_type": "code",
   "execution_count": 3,
   "id": "98bf1aec",
   "metadata": {},
   "outputs": [],
   "source": [
    "df1 = spark.read.option(\"header\", True).option(\"inferSchema\", True).option(\"delimiter\", \",\").csv('Data/student.csv')"
   ]
  },
  {
   "cell_type": "code",
   "execution_count": 4,
   "id": "cbb28230",
   "metadata": {},
   "outputs": [],
   "source": [
    "df2 = spark.read.format(\"csv\").options(header='True', inferSchema='True', delimiter=',').load('Data/student.csv')"
   ]
  },
  {
   "cell_type": "code",
   "execution_count": 5,
   "id": "7509508f",
   "metadata": {},
   "outputs": [
    {
     "name": "stdout",
     "output_type": "stream",
     "text": [
      "+---+--------+-----+----+------+\n",
      "| id|    name|class|mark|gender|\n",
      "+---+--------+-----+----+------+\n",
      "|  1|John Deo| Four|  75|female|\n",
      "|  2|Max Ruin|Three|  85|  male|\n",
      "+---+--------+-----+----+------+\n",
      "only showing top 2 rows\n",
      "\n"
     ]
    }
   ],
   "source": [
    "df1.show(2)"
   ]
  },
  {
   "cell_type": "code",
   "execution_count": 6,
   "id": "5860feb2",
   "metadata": {},
   "outputs": [
    {
     "name": "stdout",
     "output_type": "stream",
     "text": [
      "+---+--------+-----+----+------+\n",
      "| id|    name|class|mark|gender|\n",
      "+---+--------+-----+----+------+\n",
      "|  1|John Deo| Four|  75|female|\n",
      "|  2|Max Ruin|Three|  85|  male|\n",
      "+---+--------+-----+----+------+\n",
      "only showing top 2 rows\n",
      "\n"
     ]
    }
   ],
   "source": [
    "df2.show(2)"
   ]
  },
  {
   "cell_type": "code",
   "execution_count": 7,
   "id": "8cb715f9",
   "metadata": {},
   "outputs": [
    {
     "name": "stdout",
     "output_type": "stream",
     "text": [
      "root\n",
      " |-- id: integer (nullable = true)\n",
      " |-- name: string (nullable = true)\n",
      " |-- class: string (nullable = true)\n",
      " |-- mark: integer (nullable = true)\n",
      " |-- gender: string (nullable = true)\n",
      "\n"
     ]
    }
   ],
   "source": [
    "df2.printSchema()"
   ]
  },
  {
   "cell_type": "markdown",
   "id": "9746d7ff",
   "metadata": {},
   "source": [
    "### inferSchema will read data twice, so it is recommended to use custom schema"
   ]
  },
  {
   "cell_type": "code",
   "execution_count": 8,
   "id": "6ad17728",
   "metadata": {},
   "outputs": [],
   "source": [
    "from pyspark.sql.types import StructType, StringType, IntegerType"
   ]
  },
  {
   "cell_type": "code",
   "execution_count": 9,
   "id": "3920786d",
   "metadata": {},
   "outputs": [],
   "source": [
    "schema = StructType() \\\n",
    "      .add(\"id\",IntegerType(),True) \\\n",
    "      .add(\"name\",StringType(),True) \\\n",
    "      .add(\"class\",StringType(),True) \\\n",
    "      .add(\"mark\",IntegerType(),True) \\\n",
    "      .add(\"gender\",StringType(),True)\n",
    "\n",
    "df3 = spark.read.format(\"csv\").options(header='True', delimiter=',').schema(schema).load('Data/student.csv')"
   ]
  },
  {
   "cell_type": "code",
   "execution_count": 10,
   "id": "3abe01ec",
   "metadata": {},
   "outputs": [
    {
     "name": "stdout",
     "output_type": "stream",
     "text": [
      "+---+--------+-----+----+------+\n",
      "| id|    name|class|mark|gender|\n",
      "+---+--------+-----+----+------+\n",
      "|  1|John Deo| Four|  75|female|\n",
      "|  2|Max Ruin|Three|  85|  male|\n",
      "+---+--------+-----+----+------+\n",
      "only showing top 2 rows\n",
      "\n"
     ]
    }
   ],
   "source": [
    "df3.show(2)"
   ]
  },
  {
   "cell_type": "code",
   "execution_count": 11,
   "id": "3a8ae95e",
   "metadata": {},
   "outputs": [
    {
     "name": "stdout",
     "output_type": "stream",
     "text": [
      "root\n",
      " |-- id: integer (nullable = true)\n",
      " |-- name: string (nullable = true)\n",
      " |-- class: string (nullable = true)\n",
      " |-- mark: integer (nullable = true)\n",
      " |-- gender: string (nullable = true)\n",
      "\n"
     ]
    }
   ],
   "source": [
    "df3.printSchema()"
   ]
  },
  {
   "cell_type": "markdown",
   "id": "d6d99db9",
   "metadata": {},
   "source": [
    "## Other Features while reading csv\n",
    "- Read Multiple CSV Files ==> \n",
    "df = spark.read.csv(\"path1,path2,path3\")\n",
    "- Read all CSV Files in a Directory ==> \n",
    "df = spark.read.csv(\"Folder path\")\n",
    "- quotes\n",
    "When you have a column with a delimiter that used to split the columns, \n",
    "use quotes option to specify the quote character, by default it is ” and \n",
    "delimiters inside quotes are ignored. But using this option you can set any character.\n",
    "df = spark.read.option(\"quote\", \"'\").csv(csv_path)\n",
    "- nullValues\n",
    "Using nullValues option you can specify the string in a CSV to consider as null. For example, \n",
    "if you want to consider a date column with a value \"1900-01-01\" set null on DataFrame."
   ]
  },
  {
   "cell_type": "markdown",
   "id": "c19edd6c",
   "metadata": {},
   "source": [
    "## Writing DF to csv"
   ]
  },
  {
   "cell_type": "code",
   "execution_count": 14,
   "id": "075d698c",
   "metadata": {},
   "outputs": [],
   "source": [
    "df2.write.options(header='True', delimiter=',').mode('overwrite').csv(\"Data/written_student_csv\")"
   ]
  },
  {
   "cell_type": "markdown",
   "id": "4a0c6710",
   "metadata": {},
   "source": [
    "### Saving modes\n",
    "overwrite – mode is used to overwrite the existing file.\n",
    "\n",
    "append – To add the data to the existing file.\n",
    "\n",
    "ignore – Ignores write operation when the file already exists.\n",
    "\n",
    "error – This is a default option when the file already exists, it returns an error."
   ]
  },
  {
   "cell_type": "code",
   "execution_count": null,
   "id": "af4e0d1c",
   "metadata": {},
   "outputs": [],
   "source": []
  },
  {
   "cell_type": "code",
   "execution_count": null,
   "id": "91b46e11",
   "metadata": {},
   "outputs": [],
   "source": []
  },
  {
   "cell_type": "markdown",
   "id": "d0a3bb4f",
   "metadata": {},
   "source": [
    "<h1><center>Filter Operations</center></h1>"
   ]
  },
  {
   "cell_type": "code",
   "execution_count": 16,
   "id": "f2f4d0d9",
   "metadata": {
    "scrolled": true
   },
   "outputs": [
    {
     "name": "stdout",
     "output_type": "stream",
     "text": [
      "+---+--------+-----+----+------+\n",
      "| id|    name|class|mark|gender|\n",
      "+---+--------+-----+----+------+\n",
      "|  2|Max Ruin|Three|  85|  male|\n",
      "|  3|  Arnold|Three|  55|  male|\n",
      "+---+--------+-----+----+------+\n",
      "only showing top 2 rows\n",
      "\n"
     ]
    }
   ],
   "source": [
    "df3.filter(df3.gender == 'male').show(2)"
   ]
  },
  {
   "cell_type": "code",
   "execution_count": 17,
   "id": "38b1d155",
   "metadata": {},
   "outputs": [
    {
     "name": "stdout",
     "output_type": "stream",
     "text": [
      "+---+----------+-----+----+------+\n",
      "| id|      name|class|mark|gender|\n",
      "+---+----------+-----+----+------+\n",
      "|  1|  John Deo| Four|  75|female|\n",
      "|  4|Krish Star| Four|  60|female|\n",
      "+---+----------+-----+----+------+\n",
      "only showing top 2 rows\n",
      "\n"
     ]
    }
   ],
   "source": [
    "df3.filter(df3.gender != 'male').show(2)"
   ]
  },
  {
   "cell_type": "code",
   "execution_count": 18,
   "id": "59655160",
   "metadata": {},
   "outputs": [
    {
     "name": "stdout",
     "output_type": "stream",
     "text": [
      "+---+----------+-----+----+------+\n",
      "| id|      name|class|mark|gender|\n",
      "+---+----------+-----+----+------+\n",
      "|  1|  John Deo| Four|  75|female|\n",
      "|  4|Krish Star| Four|  60|female|\n",
      "+---+----------+-----+----+------+\n",
      "only showing top 2 rows\n",
      "\n"
     ]
    }
   ],
   "source": [
    "df3.filter(~(df3.gender == 'male')).show(2)"
   ]
  },
  {
   "cell_type": "code",
   "execution_count": 20,
   "id": "4120974c",
   "metadata": {},
   "outputs": [
    {
     "name": "stdout",
     "output_type": "stream",
     "text": [
      "+---+--------+-----+----+------+\n",
      "| id|    name|class|mark|gender|\n",
      "+---+--------+-----+----+------+\n",
      "|  2|Max Ruin|Three|  85|  male|\n",
      "|  3|  Arnold|Three|  55|  male|\n",
      "+---+--------+-----+----+------+\n",
      "only showing top 2 rows\n",
      "\n"
     ]
    }
   ],
   "source": [
    "from pyspark.sql.functions import col\n",
    "df3.filter(col(\"gender\") == \"male\").show(2)"
   ]
  },
  {
   "cell_type": "code",
   "execution_count": 21,
   "id": "1769c8fe",
   "metadata": {},
   "outputs": [
    {
     "name": "stdout",
     "output_type": "stream",
     "text": [
      "+---+--------+-----+----+------+\n",
      "| id|    name|class|mark|gender|\n",
      "+---+--------+-----+----+------+\n",
      "|  2|Max Ruin|Three|  85|  male|\n",
      "|  3|  Arnold|Three|  55|  male|\n",
      "+---+--------+-----+----+------+\n",
      "only showing top 2 rows\n",
      "\n"
     ]
    }
   ],
   "source": [
    "df3.filter(\"gender == 'male'\").show(2)"
   ]
  },
  {
   "cell_type": "code",
   "execution_count": 27,
   "id": "4684eb8d",
   "metadata": {},
   "outputs": [
    {
     "name": "stdout",
     "output_type": "stream",
     "text": [
      "+---+---------+-----+----+------+\n",
      "| id|     name|class|mark|gender|\n",
      "+---+---------+-----+----+------+\n",
      "|  6|Alex John| Four|  55|  male|\n",
      "| 15| Tade Row| Four|  88|  male|\n",
      "+---+---------+-----+----+------+\n",
      "only showing top 2 rows\n",
      "\n"
     ]
    }
   ],
   "source": [
    "df3.filter((df3.gender=='male')&(df3['class']=='Four')).show(2)"
   ]
  },
  {
   "cell_type": "code",
   "execution_count": 29,
   "id": "11cce736",
   "metadata": {},
   "outputs": [
    {
     "name": "stdout",
     "output_type": "stream",
     "text": [
      "+---+--------+-----+----+------+\n",
      "| id|    name|class|mark|gender|\n",
      "+---+--------+-----+----+------+\n",
      "|  1|John Deo| Four|  75|female|\n",
      "|  2|Max Ruin|Three|  85|  male|\n",
      "+---+--------+-----+----+------+\n",
      "only showing top 2 rows\n",
      "\n"
     ]
    }
   ],
   "source": [
    "li=[\"Three\",\"Four\"]\n",
    "df3.filter(df3['class'].isin(li)).show(2)"
   ]
  },
  {
   "cell_type": "code",
   "execution_count": 31,
   "id": "04f117ad",
   "metadata": {},
   "outputs": [
    {
     "name": "stdout",
     "output_type": "stream",
     "text": [
      "+---+--------+-----+----+------+\n",
      "| id|    name|class|mark|gender|\n",
      "+---+--------+-----+----+------+\n",
      "|  2|Max Ruin|Three|  85|  male|\n",
      "|  3|  Arnold|Three|  55|  male|\n",
      "| 27|Big Nose|Three|  81|female|\n",
      "+---+--------+-----+----+------+\n",
      "\n",
      "+---+--------+-----+----+------+\n",
      "| id|    name|class|mark|gender|\n",
      "+---+--------+-----+----+------+\n",
      "|  2|Max Ruin|Three|  85|  male|\n",
      "|  3|  Arnold|Three|  55|  male|\n",
      "| 27|Big Nose|Three|  81|female|\n",
      "+---+--------+-----+----+------+\n",
      "\n",
      "+---+--------+-----+----+------+\n",
      "| id|    name|class|mark|gender|\n",
      "+---+--------+-----+----+------+\n",
      "|  2|Max Ruin|Three|  85|  male|\n",
      "|  3|  Arnold|Three|  55|  male|\n",
      "| 27|Big Nose|Three|  81|female|\n",
      "+---+--------+-----+----+------+\n",
      "\n"
     ]
    }
   ],
   "source": [
    "df3.filter(df3['class'].startswith(\"T\")).show()\n",
    "df3.filter(df3['class'].endswith(\"ee\")).show()\n",
    "df3.filter(df3['class'].contains(\"Th\")).show()"
   ]
  },
  {
   "cell_type": "code",
   "execution_count": 32,
   "id": "5d4d15de",
   "metadata": {},
   "outputs": [
    {
     "name": "stdout",
     "output_type": "stream",
     "text": [
      "+---+--------+-----+----+------+\n",
      "| id|    name|class|mark|gender|\n",
      "+---+--------+-----+----+------+\n",
      "|  2|Max Ruin|Three|  85|  male|\n",
      "+---+--------+-----+----+------+\n",
      "\n"
     ]
    }
   ],
   "source": [
    "df3.filter(df3.name.like(\"%Ruin%\")).show(2)"
   ]
  },
  {
   "cell_type": "code",
   "execution_count": 33,
   "id": "d62c8d6f",
   "metadata": {},
   "outputs": [
    {
     "name": "stdout",
     "output_type": "stream",
     "text": [
      "+---+--------+-----+----+------+\n",
      "| id|    name|class|mark|gender|\n",
      "+---+--------+-----+----+------+\n",
      "|  2|Max Ruin|Three|  85|  male|\n",
      "+---+--------+-----+----+------+\n",
      "\n"
     ]
    }
   ],
   "source": [
    "df3.filter(df3.name.rlike(\"(?i)^*ruin$\")).show(2)"
   ]
  },
  {
   "cell_type": "code",
   "execution_count": 34,
   "id": "11df1b58",
   "metadata": {},
   "outputs": [
    {
     "name": "stdout",
     "output_type": "stream",
     "text": [
      "+---+----+-----+----+------+\n",
      "| id|name|class|mark|gender|\n",
      "+---+----+-----+----+------+\n",
      "+---+----+-----+----+------+\n",
      "\n"
     ]
    }
   ],
   "source": [
    "df3.filter(df3.name.isNull()).show(2)"
   ]
  },
  {
   "cell_type": "code",
   "execution_count": 35,
   "id": "1b429e22",
   "metadata": {},
   "outputs": [
    {
     "name": "stdout",
     "output_type": "stream",
     "text": [
      "+---+--------+-----+----+------+\n",
      "| id|    name|class|mark|gender|\n",
      "+---+--------+-----+----+------+\n",
      "|  1|John Deo| Four|  75|female|\n",
      "|  2|Max Ruin|Three|  85|  male|\n",
      "+---+--------+-----+----+------+\n",
      "only showing top 2 rows\n",
      "\n"
     ]
    }
   ],
   "source": [
    "df3.filter(df3.name.isNotNull()).show(2)"
   ]
  },
  {
   "cell_type": "code",
   "execution_count": 37,
   "id": "1e8904f0",
   "metadata": {},
   "outputs": [
    {
     "name": "stdout",
     "output_type": "stream",
     "text": [
      "root\n",
      " |-- name: struct (nullable = true)\n",
      " |    |-- firstname: string (nullable = true)\n",
      " |    |-- middlename: string (nullable = true)\n",
      " |    |-- lastname: string (nullable = true)\n",
      " |-- languages: array (nullable = true)\n",
      " |    |-- element: string (containsNull = true)\n",
      " |-- state: string (nullable = true)\n",
      " |-- gender: string (nullable = true)\n",
      "\n",
      "+----------------+------------------+-----+------+\n",
      "|            name|         languages|state|gender|\n",
      "+----------------+------------------+-----+------+\n",
      "|{James, , Smith}|[Java, Scala, C++]|   OH|     M|\n",
      "|  {Anna, Rose, }|[Spark, Java, C++]|   NY|     F|\n",
      "+----------------+------------------+-----+------+\n",
      "only showing top 2 rows\n",
      "\n",
      "+----------------+------------------+-----+------+\n",
      "|            name|         languages|state|gender|\n",
      "+----------------+------------------+-----+------+\n",
      "|{James, , Smith}|[Java, Scala, C++]|   OH|     M|\n",
      "|  {Anna, Rose, }|[Spark, Java, C++]|   NY|     F|\n",
      "+----------------+------------------+-----+------+\n",
      "\n",
      "+--------------------+------------+-----+------+\n",
      "|                name|   languages|state|gender|\n",
      "+--------------------+------------+-----+------+\n",
      "| {Julia, , Williams}|[CSharp, VB]|   OH|     F|\n",
      "|{Mike, Mary, Will...|[Python, VB]|   OH|     M|\n",
      "+--------------------+------------+-----+------+\n",
      "\n"
     ]
    }
   ],
   "source": [
    "from pyspark.sql.types import StructField \n",
    "from pyspark.sql.types import ArrayType\n",
    "data = [\n",
    "    ((\"James\",\"\",\"Smith\"),[\"Java\",\"Scala\",\"C++\"],\"OH\",\"M\"),\n",
    "    ((\"Anna\",\"Rose\",\"\"),[\"Spark\",\"Java\",\"C++\"],\"NY\",\"F\"),\n",
    "    ((\"Julia\",\"\",\"Williams\"),[\"CSharp\",\"VB\"],\"OH\",\"F\"),\n",
    "    ((\"Maria\",\"Anne\",\"Jones\"),[\"CSharp\",\"VB\"],\"NY\",\"M\"),\n",
    "    ((\"Jen\",\"Mary\",\"Brown\"),[\"CSharp\",\"VB\"],\"NY\",\"M\"),\n",
    "    ((\"Mike\",\"Mary\",\"Williams\"),[\"Python\",\"VB\"],\"OH\",\"M\")\n",
    " ]\n",
    "        \n",
    "schema = StructType([\n",
    "     StructField('name', StructType([\n",
    "        StructField('firstname', StringType(), True),\n",
    "        StructField('middlename', StringType(), True),\n",
    "         StructField('lastname', StringType(), True)\n",
    "     ])),\n",
    "     StructField('languages', ArrayType(StringType()), True),\n",
    "     StructField('state', StringType(), True),\n",
    "     StructField('gender', StringType(), True)\n",
    " ])\n",
    "\n",
    "df4 = spark.createDataFrame(data = data, schema = schema)\n",
    "df4.printSchema()\n",
    "df4.show(2)\n",
    "\n",
    "from pyspark.sql.functions import array_contains\n",
    "df4.filter(array_contains(df4.languages,\"Java\")).show(2)\n",
    "\n",
    "df4.filter(df4.name.lastname == \"Williams\").show(2)"
   ]
  },
  {
   "cell_type": "code",
   "execution_count": null,
   "id": "1f6a02e9",
   "metadata": {},
   "outputs": [],
   "source": []
  },
  {
   "cell_type": "code",
   "execution_count": null,
   "id": "963dcdbd",
   "metadata": {},
   "outputs": [],
   "source": []
  },
  {
   "cell_type": "markdown",
   "id": "0190acb8",
   "metadata": {},
   "source": [
    "<h1><center>Add, Rename and Drop Columns, Change datatype of Column</center></h1>"
   ]
  },
  {
   "cell_type": "markdown",
   "id": "1de5f258",
   "metadata": {},
   "source": [
    "df.withColumn(\"CopiedColumn\",col(\"salary\")* -1).show()\n",
    "\n",
    "df.withColumn(\"Country\", lit(\"USA\")).show()\n",
    "\n",
    "df6 = df.withColumn(\"Country\", lit(\"USA\")).withColumn(\"anotherColumn\",lit(\"anotherValue\"))\n",
    "\n",
    "\n",
    "\n",
    "\n",
    "df.withColumnRenamed(\"gender\",\"sex\").show()\n",
    "\n",
    "\n",
    "\n",
    "\n",
    "df.drop(\"salary\").show()\n",
    "\n",
    "\n",
    "\n",
    "\n",
    "df.withColumn(\"salary\",col(\"salary\").cast(\"Integer\")).show()"
   ]
  }
 ],
 "metadata": {
  "kernelspec": {
   "display_name": "Python 3 (ipykernel)",
   "language": "python",
   "name": "python3"
  },
  "language_info": {
   "codemirror_mode": {
    "name": "ipython",
    "version": 3
   },
   "file_extension": ".py",
   "mimetype": "text/x-python",
   "name": "python",
   "nbconvert_exporter": "python",
   "pygments_lexer": "ipython3",
   "version": "3.8.5"
  }
 },
 "nbformat": 4,
 "nbformat_minor": 5
}
