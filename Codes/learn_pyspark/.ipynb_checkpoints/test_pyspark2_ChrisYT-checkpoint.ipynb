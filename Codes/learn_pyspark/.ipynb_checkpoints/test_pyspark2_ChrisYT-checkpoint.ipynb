{
 "cells": [
  {
   "cell_type": "code",
   "execution_count": 1,
   "id": "14b72378",
   "metadata": {},
   "outputs": [
    {
     "name": "stderr",
     "output_type": "stream",
     "text": [
      "WARNING:root:'PYARROW_IGNORE_TIMEZONE' environment variable was not set. It is required to set this environment variable to '1' in both driver and executor sides if you use pyarrow>=2.0.0. pandas-on-Spark will set it for you but it does not work if there is a Spark context already launched.\n"
     ]
    }
   ],
   "source": [
    "import pyspark\n",
    "import pandas as pd\n",
    "from datetime import datetime, date\n",
    "from pyspark.sql import Row\n",
    "from pyspark.sql import Column\n",
    "import pyspark.pandas as ps\n",
    "from pyspark.sql import SparkSession"
   ]
  },
  {
   "cell_type": "code",
   "execution_count": 2,
   "id": "45c0abe7",
   "metadata": {},
   "outputs": [
    {
     "name": "stdout",
     "output_type": "stream",
     "text": [
      "23/07/09 19:40:21 WARN Utils: Your hostname, nMACHINE resolves to a loopback address: 127.0.1.1; using 192.168.0.133 instead (on interface wlp2s0)\n",
      "23/07/09 19:40:21 WARN Utils: Set SPARK_LOCAL_IP if you need to bind to another address\n"
     ]
    },
    {
     "name": "stderr",
     "output_type": "stream",
     "text": [
      "Setting default log level to \"WARN\".\n",
      "To adjust logging level use sc.setLogLevel(newLevel). For SparkR, use setLogLevel(newLevel).\n"
     ]
    },
    {
     "name": "stdout",
     "output_type": "stream",
     "text": [
      "23/07/09 19:40:22 WARN NativeCodeLoader: Unable to load native-hadoop library for your platform... using builtin-java classes where applicable\n",
      "23/07/09 19:40:22 WARN Utils: Service 'SparkUI' could not bind on port 4040. Attempting port 4041.\n",
      "23/07/09 19:40:22 WARN Utils: Service 'SparkUI' could not bind on port 4041. Attempting port 4042.\n"
     ]
    }
   ],
   "source": [
    "spark = SparkSession.builder.appName('Practice Pyspark').getOrCreate()"
   ]
  },
  {
   "cell_type": "code",
   "execution_count": 3,
   "id": "1913c22b",
   "metadata": {},
   "outputs": [
    {
     "data": {
      "text/html": [
       "\n",
       "            <div>\n",
       "                <p><b>SparkSession - in-memory</b></p>\n",
       "                \n",
       "        <div>\n",
       "            <p><b>SparkContext</b></p>\n",
       "\n",
       "            <p><a href=\"http://192.168.0.133:4042\">Spark UI</a></p>\n",
       "\n",
       "            <dl>\n",
       "              <dt>Version</dt>\n",
       "                <dd><code>v3.3.0</code></dd>\n",
       "              <dt>Master</dt>\n",
       "                <dd><code>local[*]</code></dd>\n",
       "              <dt>AppName</dt>\n",
       "                <dd><code>Practice Pyspark</code></dd>\n",
       "            </dl>\n",
       "        </div>\n",
       "        \n",
       "            </div>\n",
       "        "
      ],
      "text/plain": [
       "<pyspark.sql.session.SparkSession at 0x7f867e8c6f40>"
      ]
     },
     "execution_count": 3,
     "metadata": {},
     "output_type": "execute_result"
    }
   ],
   "source": [
    "spark"
   ]
  },
  {
   "cell_type": "code",
   "execution_count": 4,
   "id": "dcff7dc1",
   "metadata": {},
   "outputs": [],
   "source": [
    "df = spark.read.option(\"header\", True).csv('Data/student.csv', inferSchema=True)"
   ]
  },
  {
   "cell_type": "code",
   "execution_count": 5,
   "id": "d2be08d3",
   "metadata": {},
   "outputs": [
    {
     "name": "stdout",
     "output_type": "stream",
     "text": [
      "root\n",
      " |-- id: integer (nullable = true)\n",
      " |-- name: string (nullable = true)\n",
      " |-- class: string (nullable = true)\n",
      " |-- mark: integer (nullable = true)\n",
      " |-- gender: string (nullable = true)\n",
      "\n"
     ]
    }
   ],
   "source": [
    "df.printSchema()"
   ]
  },
  {
   "cell_type": "code",
   "execution_count": 6,
   "id": "9fdd2813",
   "metadata": {},
   "outputs": [
    {
     "name": "stdout",
     "output_type": "stream",
     "text": [
      "+---+--------+-----+----+------+\n",
      "| id|    name|class|mark|gender|\n",
      "+---+--------+-----+----+------+\n",
      "|  1|John Deo| Four|  75|female|\n",
      "|  2|Max Ruin|Three|  85|  male|\n",
      "+---+--------+-----+----+------+\n",
      "only showing top 2 rows\n",
      "\n"
     ]
    }
   ],
   "source": [
    "df.show(2)"
   ]
  },
  {
   "cell_type": "code",
   "execution_count": 7,
   "id": "7eb5f453",
   "metadata": {},
   "outputs": [
    {
     "name": "stdout",
     "output_type": "stream",
     "text": [
      "+--------+-----+\n",
      "|    name|class|\n",
      "+--------+-----+\n",
      "|John Deo| Four|\n",
      "|Max Ruin|Three|\n",
      "+--------+-----+\n",
      "only showing top 2 rows\n",
      "\n"
     ]
    }
   ],
   "source": [
    "df.select([\"name\", \"class\"]).show(2)"
   ]
  },
  {
   "cell_type": "code",
   "execution_count": 8,
   "id": "4cb9673c",
   "metadata": {},
   "outputs": [
    {
     "data": {
      "text/plain": [
       "[('id', 'int'),\n",
       " ('name', 'string'),\n",
       " ('class', 'string'),\n",
       " ('mark', 'int'),\n",
       " ('gender', 'string')]"
      ]
     },
     "execution_count": 8,
     "metadata": {},
     "output_type": "execute_result"
    }
   ],
   "source": [
    "df.dtypes"
   ]
  },
  {
   "cell_type": "code",
   "execution_count": 9,
   "id": "5efdebe9",
   "metadata": {},
   "outputs": [
    {
     "name": "stdout",
     "output_type": "stream",
     "text": [
      "+-------+------------------+---------+-----+------------------+------+\n",
      "|summary|                id|     name|class|              mark|gender|\n",
      "+-------+------------------+---------+-----+------------------+------+\n",
      "|  count|                35|       35|   35|                35|    35|\n",
      "|   mean|              18.0|     null| null| 74.65714285714286|  null|\n",
      "| stddev|10.246950765959598|     null| null|16.401116994139826|  null|\n",
      "|    min|                 1|Alex John|Eight|                18|female|\n",
      "|    max|                35|    Tumyu|Three|                96|  male|\n",
      "+-------+------------------+---------+-----+------------------+------+\n",
      "\n"
     ]
    }
   ],
   "source": [
    "df.describe().show()"
   ]
  },
  {
   "cell_type": "markdown",
   "id": "20af24e8",
   "metadata": {},
   "source": [
    "# Adding columns to pyspark Dataframe"
   ]
  },
  {
   "cell_type": "code",
   "execution_count": 10,
   "id": "78f40b82",
   "metadata": {},
   "outputs": [],
   "source": [
    "df = df.withColumn(\"marks out of 1\", df[\"mark\"]/100)"
   ]
  },
  {
   "cell_type": "code",
   "execution_count": 11,
   "id": "3d9fd662",
   "metadata": {},
   "outputs": [
    {
     "name": "stdout",
     "output_type": "stream",
     "text": [
      "+---+--------+-----+----+------+--------------+\n",
      "| id|    name|class|mark|gender|marks out of 1|\n",
      "+---+--------+-----+----+------+--------------+\n",
      "|  1|John Deo| Four|  75|female|          0.75|\n",
      "|  2|Max Ruin|Three|  85|  male|          0.85|\n",
      "+---+--------+-----+----+------+--------------+\n",
      "only showing top 2 rows\n",
      "\n"
     ]
    }
   ],
   "source": [
    "df.show(2)"
   ]
  },
  {
   "cell_type": "markdown",
   "id": "a769d171",
   "metadata": {},
   "source": [
    "# Drop columns to pyspark Dataframe"
   ]
  },
  {
   "cell_type": "code",
   "execution_count": 12,
   "id": "12916283",
   "metadata": {},
   "outputs": [
    {
     "name": "stdout",
     "output_type": "stream",
     "text": [
      "+---+--------+-----+----+------+\n",
      "| id|    name|class|mark|gender|\n",
      "+---+--------+-----+----+------+\n",
      "|  1|John Deo| Four|  75|female|\n",
      "|  2|Max Ruin|Three|  85|  male|\n",
      "+---+--------+-----+----+------+\n",
      "only showing top 2 rows\n",
      "\n"
     ]
    }
   ],
   "source": [
    "df.drop(\"marks out of 1\").show(2)"
   ]
  },
  {
   "cell_type": "markdown",
   "id": "8b38c244",
   "metadata": {},
   "source": [
    "# Rename columns to pyspark Dataframe"
   ]
  },
  {
   "cell_type": "code",
   "execution_count": 13,
   "id": "4a6092de",
   "metadata": {},
   "outputs": [
    {
     "name": "stdout",
     "output_type": "stream",
     "text": [
      "+---+--------+-----+----+------+--------------+\n",
      "| id|    NAME|class|mark|gender|marks out of 1|\n",
      "+---+--------+-----+----+------+--------------+\n",
      "|  1|John Deo| Four|  75|female|          0.75|\n",
      "|  2|Max Ruin|Three|  85|  male|          0.85|\n",
      "+---+--------+-----+----+------+--------------+\n",
      "only showing top 2 rows\n",
      "\n"
     ]
    }
   ],
   "source": [
    "df.withColumnRenamed('name', 'NAME').show(2)"
   ]
  },
  {
   "cell_type": "markdown",
   "id": "f4bea289",
   "metadata": {},
   "source": [
    "# Pandas API conversion"
   ]
  },
  {
   "cell_type": "code",
   "execution_count": 14,
   "id": "f5d8b652",
   "metadata": {},
   "outputs": [],
   "source": [
    "df = df.pandas_api()"
   ]
  },
  {
   "cell_type": "code",
   "execution_count": 15,
   "id": "6d18737f",
   "metadata": {},
   "outputs": [
    {
     "data": {
      "text/html": [
       "<div>\n",
       "<style scoped>\n",
       "    .dataframe tbody tr th:only-of-type {\n",
       "        vertical-align: middle;\n",
       "    }\n",
       "\n",
       "    .dataframe tbody tr th {\n",
       "        vertical-align: top;\n",
       "    }\n",
       "\n",
       "    .dataframe thead th {\n",
       "        text-align: right;\n",
       "    }\n",
       "</style>\n",
       "<table border=\"1\" class=\"dataframe\">\n",
       "  <thead>\n",
       "    <tr style=\"text-align: right;\">\n",
       "      <th></th>\n",
       "      <th>id</th>\n",
       "      <th>name</th>\n",
       "      <th>class</th>\n",
       "      <th>mark</th>\n",
       "      <th>gender</th>\n",
       "      <th>marks out of 1</th>\n",
       "    </tr>\n",
       "  </thead>\n",
       "  <tbody>\n",
       "    <tr>\n",
       "      <th>0</th>\n",
       "      <td>1</td>\n",
       "      <td>John Deo</td>\n",
       "      <td>Four</td>\n",
       "      <td>75</td>\n",
       "      <td>female</td>\n",
       "      <td>0.75</td>\n",
       "    </tr>\n",
       "    <tr>\n",
       "      <th>1</th>\n",
       "      <td>2</td>\n",
       "      <td>Max Ruin</td>\n",
       "      <td>Three</td>\n",
       "      <td>85</td>\n",
       "      <td>male</td>\n",
       "      <td>0.85</td>\n",
       "    </tr>\n",
       "  </tbody>\n",
       "</table>\n",
       "</div>"
      ],
      "text/plain": [
       "   id      name  class  mark  gender  marks out of 1\n",
       "0   1  John Deo   Four    75  female            0.75\n",
       "1   2  Max Ruin  Three    85    male            0.85"
      ]
     },
     "execution_count": 15,
     "metadata": {},
     "output_type": "execute_result"
    }
   ],
   "source": [
    "df.head(2)"
   ]
  },
  {
   "cell_type": "code",
   "execution_count": 16,
   "id": "0509bad7",
   "metadata": {},
   "outputs": [
    {
     "name": "stdout",
     "output_type": "stream",
     "text": [
      "root\n",
      " |-- id: integer (nullable = true)\n",
      " |-- name: string (nullable = true)\n",
      " |-- class: string (nullable = true)\n",
      " |-- mark: integer (nullable = true)\n",
      " |-- gender: string (nullable = true)\n",
      " |-- marks out of 1: double (nullable = true)\n",
      "\n"
     ]
    },
    {
     "name": "stderr",
     "output_type": "stream",
     "text": [
      "/home/niklaus/anaconda3/envs/rpl/lib/python3.8/site-packages/pyspark/pandas/utils.py:975: PandasAPIOnSparkAdviceWarning: If `index_col` is not specified for `to_spark`, the existing index is lost when converting to Spark DataFrame.\n",
      "  warnings.warn(message, PandasAPIOnSparkAdviceWarning)\n"
     ]
    }
   ],
   "source": [
    "df = df.to_spark()\n",
    "df.printSchema()"
   ]
  },
  {
   "cell_type": "code",
   "execution_count": 17,
   "id": "a70cddea",
   "metadata": {},
   "outputs": [
    {
     "name": "stdout",
     "output_type": "stream",
     "text": [
      "+---+--------+-----+----+------+--------------+\n",
      "| id|    name|class|mark|gender|marks out of 1|\n",
      "+---+--------+-----+----+------+--------------+\n",
      "|  1|John Deo| Four|  75|female|          0.75|\n",
      "|  2|Max Ruin|Three|  85|  male|          0.85|\n",
      "+---+--------+-----+----+------+--------------+\n",
      "only showing top 2 rows\n",
      "\n"
     ]
    }
   ],
   "source": [
    "df.show(2)"
   ]
  },
  {
   "cell_type": "markdown",
   "id": "3e917b32",
   "metadata": {},
   "source": [
    "# Dealing with NULL Values"
   ]
  },
  {
   "cell_type": "code",
   "execution_count": 18,
   "id": "3c4775da",
   "metadata": {},
   "outputs": [],
   "source": [
    "df = spark.read.csv('Data/student_nullvalues.csv', header=True, inferSchema = True)"
   ]
  },
  {
   "cell_type": "code",
   "execution_count": 19,
   "id": "9d764749",
   "metadata": {},
   "outputs": [
    {
     "name": "stdout",
     "output_type": "stream",
     "text": [
      "+---+-----------+-----+----+------+----------+\n",
      "| id|       name|class|mark|gender|experience|\n",
      "+---+-----------+-----+----+------+----------+\n",
      "|  1|   John Deo| Four|  75|female|         9|\n",
      "|  2|   Max Ruin|Three|  85|  male|         8|\n",
      "|  3|     Arnold|Three|  55|  male|         7|\n",
      "|  4| Krish Star| null|  60|female|         6|\n",
      "|  5|  John Mike| Four|  60|female|         5|\n",
      "|  6|  Alex John| Four|  55|  male|         4|\n",
      "|  7|My John Rob|Fifth|  78|  male|         3|\n",
      "|  8|     Asruid| Five|  85|  male|         2|\n",
      "|  9|    Tes Qry|  Six|  78|  male|         1|\n",
      "| 10|   Big John| Four|  55|female|         2|\n",
      "| 11|     Ronald|  Six|  89|female|         3|\n",
      "| 12|      Recky|  Six|  94|female|         4|\n",
      "| 13|       null|Seven|  88|female|         5|\n",
      "| 14|       Bigy|Seven|  88|female|      null|\n",
      "| 15|   Tade Row| Four|  88|  male|      null|\n",
      "| 16|      Gimmy| Four|  88|  male|         8|\n",
      "| 17|      Tumyu|  Six|null|  male|         9|\n",
      "| 18|      Honny| Five|  75|  male|         8|\n",
      "| 19|      Tinny| Nine|  18|  male|         7|\n",
      "| 20|     Jackly| Nine|  65|  null|         6|\n",
      "+---+-----------+-----+----+------+----------+\n",
      "only showing top 20 rows\n",
      "\n"
     ]
    }
   ],
   "source": [
    "df.show()"
   ]
  },
  {
   "cell_type": "code",
   "execution_count": 20,
   "id": "674b39cf",
   "metadata": {},
   "outputs": [
    {
     "name": "stdout",
     "output_type": "stream",
     "text": [
      "+---+-----------+-----+----+------+----------+\n",
      "| id|       name|class|mark|gender|experience|\n",
      "+---+-----------+-----+----+------+----------+\n",
      "|  1|   John Deo| Four|  75|female|         9|\n",
      "|  2|   Max Ruin|Three|  85|  male|         8|\n",
      "|  3|     Arnold|Three|  55|  male|         7|\n",
      "|  5|  John Mike| Four|  60|female|         5|\n",
      "|  6|  Alex John| Four|  55|  male|         4|\n",
      "|  7|My John Rob|Fifth|  78|  male|         3|\n",
      "|  8|     Asruid| Five|  85|  male|         2|\n",
      "|  9|    Tes Qry|  Six|  78|  male|         1|\n",
      "| 10|   Big John| Four|  55|female|         2|\n",
      "| 11|     Ronald|  Six|  89|female|         3|\n",
      "| 12|      Recky|  Six|  94|female|         4|\n",
      "| 16|      Gimmy| Four|  88|  male|         8|\n",
      "| 18|      Honny| Five|  75|  male|         8|\n",
      "| 19|      Tinny| Nine|  18|  male|         7|\n",
      "| 21| Babby John| Four|  69|female|         5|\n",
      "| 22|     Reggid|Seven|  55|female|         4|\n",
      "| 23|      Herod|Eight|  79|  male|         3|\n",
      "| 24|  Tiddy Now|Seven|  78|  male|         2|\n",
      "| 25|   Giff Tow|Seven|  88|  male|         1|\n",
      "| 27|   Big Nose|Three|  81|female|         3|\n",
      "+---+-----------+-----+----+------+----------+\n",
      "only showing top 20 rows\n",
      "\n"
     ]
    }
   ],
   "source": [
    "### how = 'any', 'all'\n",
    "df.na.drop(how='any', thresh=6).show()"
   ]
  },
  {
   "cell_type": "code",
   "execution_count": 21,
   "id": "9c73a9ca",
   "metadata": {},
   "outputs": [
    {
     "name": "stdout",
     "output_type": "stream",
     "text": [
      "+---+-----------+-----+----+------+----------+\n",
      "| id|       name|class|mark|gender|experience|\n",
      "+---+-----------+-----+----+------+----------+\n",
      "|  1|   John Deo| Four|  75|female|         9|\n",
      "|  2|   Max Ruin|Three|  85|  male|         8|\n",
      "|  3|     Arnold|Three|  55|  male|         7|\n",
      "|  4| Krish Star| null|  60|female|         6|\n",
      "|  5|  John Mike| Four|  60|female|         5|\n",
      "|  6|  Alex John| Four|  55|  male|         4|\n",
      "|  7|My John Rob|Fifth|  78|  male|         3|\n",
      "|  8|     Asruid| Five|  85|  male|         2|\n",
      "|  9|    Tes Qry|  Six|  78|  male|         1|\n",
      "| 10|   Big John| Four|  55|female|         2|\n",
      "| 11|     Ronald|  Six|  89|female|         3|\n",
      "| 12|      Recky|  Six|  94|female|         4|\n",
      "| 13|       null|Seven|  88|female|         5|\n",
      "| 16|      Gimmy| Four|  88|  male|         8|\n",
      "| 17|      Tumyu|  Six|null|  male|         9|\n",
      "| 18|      Honny| Five|  75|  male|         8|\n",
      "| 19|      Tinny| Nine|  18|  male|         7|\n",
      "| 20|     Jackly| Nine|  65|  null|         6|\n",
      "| 21| Babby John| Four|  69|female|         5|\n",
      "| 22|     Reggid|Seven|  55|female|         4|\n",
      "+---+-----------+-----+----+------+----------+\n",
      "only showing top 20 rows\n",
      "\n"
     ]
    }
   ],
   "source": [
    "df.na.drop(how='any',subset=['experience']).show()"
   ]
  },
  {
   "cell_type": "code",
   "execution_count": 22,
   "id": "dc9720a5",
   "metadata": {},
   "outputs": [
    {
     "name": "stdout",
     "output_type": "stream",
     "text": [
      "+---+-----------+-----+----------+------+----------+\n",
      "| id|       name|class|      mark|gender|experience|\n",
      "+---+-----------+-----+----------+------+----------+\n",
      "|  1|   John Deo| Four|        75|female|         9|\n",
      "|  2|   Max Ruin|Three|        85|  male|         8|\n",
      "|  3|     Arnold|Three|        55|  male|         7|\n",
      "|  4| Krish Star| null|        60|female|         6|\n",
      "|  5|  John Mike| Four|        60|female|         5|\n",
      "|  6|  Alex John| Four|        55|  male|         4|\n",
      "|  7|My John Rob|Fifth|        78|  male|         3|\n",
      "|  8|     Asruid| Five|        85|  male|         2|\n",
      "|  9|    Tes Qry|  Six|        78|  male|         1|\n",
      "| 10|   Big John| Four|        55|female|         2|\n",
      "| 11|     Ronald|  Six|        89|female|         3|\n",
      "| 12|      Recky|  Six|        94|female|         4|\n",
      "| 13|       null|Seven|        88|female|         5|\n",
      "| 14|       Bigy|Seven|        88|female|1000000000|\n",
      "| 15|   Tade Row| Four|        88|  male|1000000000|\n",
      "| 16|      Gimmy| Four|        88|  male|         8|\n",
      "| 17|      Tumyu|  Six|1000000000|  male|         9|\n",
      "| 18|      Honny| Five|        75|  male|         8|\n",
      "| 19|      Tinny| Nine|        18|  male|         7|\n",
      "| 20|     Jackly| Nine|        65|  null|         6|\n",
      "+---+-----------+-----+----------+------+----------+\n",
      "only showing top 20 rows\n",
      "\n"
     ]
    }
   ],
   "source": [
    "### fill nan values\n",
    "df.na.fill(1000000000).show()"
   ]
  },
  {
   "cell_type": "code",
   "execution_count": 23,
   "id": "79626666",
   "metadata": {},
   "outputs": [],
   "source": [
    "### Handle NAN values with Imputer function (mean, median,mode)\n",
    "from pyspark.ml.feature import Imputer\n",
    "\n",
    "imputer = Imputer(\n",
    "    inputCols = [\"mark\", \"experience\"],\n",
    "    outputCols = [\"{}_imputed\".format(i) for i in [\"mark\", \"experience\"]]\n",
    ").setStrategy(\"mean\")"
   ]
  },
  {
   "cell_type": "code",
   "execution_count": 24,
   "id": "4fa7abaa",
   "metadata": {},
   "outputs": [
    {
     "name": "stdout",
     "output_type": "stream",
     "text": [
      "+---+-----------+-----+----+------+----------+------------+------------------+\n",
      "| id|       name|class|mark|gender|experience|mark_imputed|experience_imputed|\n",
      "+---+-----------+-----+----+------+----------+------------+------------------+\n",
      "|  1|   John Deo| Four|  75|female|         9|          75|                 9|\n",
      "|  2|   Max Ruin|Three|  85|  male|         8|          85|                 8|\n",
      "|  3|     Arnold|Three|  55|  male|         7|          55|                 7|\n",
      "|  4| Krish Star| null|  60|female|         6|          60|                 6|\n",
      "|  5|  John Mike| Four|  60|female|         5|          60|                 5|\n",
      "|  6|  Alex John| Four|  55|  male|         4|          55|                 4|\n",
      "|  7|My John Rob|Fifth|  78|  male|         3|          78|                 3|\n",
      "|  8|     Asruid| Five|  85|  male|         2|          85|                 2|\n",
      "|  9|    Tes Qry|  Six|  78|  male|         1|          78|                 1|\n",
      "| 10|   Big John| Four|  55|female|         2|          55|                 2|\n",
      "| 11|     Ronald|  Six|  89|female|         3|          89|                 3|\n",
      "| 12|      Recky|  Six|  94|female|         4|          94|                 4|\n",
      "| 13|       null|Seven|  88|female|         5|          88|                 5|\n",
      "| 14|       Bigy|Seven|  88|female|      null|          88|                 5|\n",
      "| 15|   Tade Row| Four|  88|  male|      null|          88|                 5|\n",
      "| 16|      Gimmy| Four|  88|  male|         8|          88|                 8|\n",
      "| 17|      Tumyu|  Six|null|  male|         9|          75|                 9|\n",
      "| 18|      Honny| Five|  75|  male|         8|          75|                 8|\n",
      "| 19|      Tinny| Nine|  18|  male|         7|          18|                 7|\n",
      "| 20|     Jackly| Nine|  65|  null|         6|          65|                 6|\n",
      "+---+-----------+-----+----+------+----------+------------+------------------+\n",
      "only showing top 20 rows\n",
      "\n"
     ]
    }
   ],
   "source": [
    "imputer.fit(df).transform(df).show()"
   ]
  },
  {
   "cell_type": "markdown",
   "id": "803ef8da",
   "metadata": {},
   "source": [
    "# Filter Operations"
   ]
  },
  {
   "cell_type": "code",
   "execution_count": 25,
   "id": "f131ee41",
   "metadata": {},
   "outputs": [
    {
     "name": "stdout",
     "output_type": "stream",
     "text": [
      "+---+-----+-----+----+------+----------+\n",
      "| id| name|class|mark|gender|experience|\n",
      "+---+-----+-----+----+------+----------+\n",
      "| 19|Tinny| Nine|  18|  male|         7|\n",
      "+---+-----+-----+----+------+----------+\n",
      "\n"
     ]
    }
   ],
   "source": [
    "df.filter(\"mark<50\").show()"
   ]
  },
  {
   "cell_type": "code",
   "execution_count": 26,
   "id": "01243567",
   "metadata": {},
   "outputs": [
    {
     "name": "stdout",
     "output_type": "stream",
     "text": [
      "+---+-----------+-----+----+------+----------+\n",
      "| id|       name|class|mark|gender|experience|\n",
      "+---+-----------+-----+----+------+----------+\n",
      "|  1|   John Deo| Four|  75|female|         9|\n",
      "|  3|     Arnold|Three|  55|  male|         7|\n",
      "|  4| Krish Star| null|  60|female|         6|\n",
      "|  5|  John Mike| Four|  60|female|         5|\n",
      "|  6|  Alex John| Four|  55|  male|         4|\n",
      "|  7|My John Rob|Fifth|  78|  male|         3|\n",
      "|  9|    Tes Qry|  Six|  78|  male|         1|\n",
      "| 10|   Big John| Four|  55|female|         2|\n",
      "| 18|      Honny| Five|  75|  male|         8|\n",
      "| 20|     Jackly| Nine|  65|  null|         6|\n",
      "| 21| Babby John| Four|  69|female|         5|\n",
      "| 22|     Reggid|Seven|  55|female|         4|\n",
      "| 23|      Herod|Eight|  79|  male|         3|\n",
      "| 24|  Tiddy Now|Seven|  78|  male|         2|\n",
      "| 29|Tess Played|Seven|  55|  male|         5|\n",
      "| 30|  Reppy Red|  Six|  79|female|         6|\n",
      "| 34|   Gain Toe|Seven|  69|  male|         8|\n",
      "+---+-----------+-----+----+------+----------+\n",
      "\n"
     ]
    }
   ],
   "source": [
    "df.filter((df[\"mark\"]>50) & (df[\"mark\"]<80)).show()"
   ]
  },
  {
   "cell_type": "markdown",
   "id": "dd559b82",
   "metadata": {},
   "source": [
    "# GroupBy and Aggregate Functions"
   ]
  },
  {
   "cell_type": "code",
   "execution_count": 27,
   "id": "89ade21a",
   "metadata": {},
   "outputs": [
    {
     "name": "stdout",
     "output_type": "stream",
     "text": [
      "+-----+------------------+-----------------+-----------------+\n",
      "|class|           avg(id)|        avg(mark)|  avg(experience)|\n",
      "+-----+------------------+-----------------+-----------------+\n",
      "| Five|              13.0|             80.0|              5.0|\n",
      "|  Six|              21.0|87.33333333333333|5.571428571428571|\n",
      "|Eight|              23.0|             79.0|              3.0|\n",
      "| Four|            13.125|            72.25|5.714285714285714|\n",
      "| null|               4.0|             60.0|              6.0|\n",
      "|Seven|              24.7|77.44444444444444|4.333333333333333|\n",
      "| Nine|              19.5|             41.5|              6.5|\n",
      "|Three|10.666666666666666|73.66666666666667|              6.0|\n",
      "|Fifth|               7.0|             78.0|              3.0|\n",
      "+-----+------------------+-----------------+-----------------+\n",
      "\n"
     ]
    }
   ],
   "source": [
    "df.groupBy('class').mean().show()"
   ]
  },
  {
   "cell_type": "code",
   "execution_count": 28,
   "id": "41fadd89",
   "metadata": {},
   "outputs": [
    {
     "name": "stdout",
     "output_type": "stream",
     "text": [
      "+-----------------+\n",
      "|        avg(mark)|\n",
      "+-----------------+\n",
      "|75.15151515151516|\n",
      "+-----------------+\n",
      "\n"
     ]
    }
   ],
   "source": [
    "df.agg({'mark':'mean'}).show()"
   ]
  }
 ],
 "metadata": {
  "kernelspec": {
   "display_name": "Python 3 (ipykernel)",
   "language": "python",
   "name": "python3"
  },
  "language_info": {
   "codemirror_mode": {
    "name": "ipython",
    "version": 3
   },
   "file_extension": ".py",
   "mimetype": "text/x-python",
   "name": "python",
   "nbconvert_exporter": "python",
   "pygments_lexer": "ipython3",
   "version": "3.8.5"
  }
 },
 "nbformat": 4,
 "nbformat_minor": 5
}
